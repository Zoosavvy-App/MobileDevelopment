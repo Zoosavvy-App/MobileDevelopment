{
  "nbformat": 4,
  "nbformat_minor": 0,
  "metadata": {
    "colab": {
      "provenance": [],
      "gpuType": "T4",
      "include_colab_link": true
    },
    "kernelspec": {
      "name": "python3",
      "display_name": "Python 3"
    },
    "language_info": {
      "name": "python"
    },
    "accelerator": "GPU"
  },
  "cells": [
    {
      "cell_type": "markdown",
      "metadata": {
        "id": "view-in-github",
        "colab_type": "text"
      },
      "source": [
        "<a href=\"https://colab.research.google.com/github/afebrii/ZooSavvy/blob/master/ModelMLImageClassification.ipynb\" target=\"_parent\"><img src=\"https://colab.research.google.com/assets/colab-badge.svg\" alt=\"Open In Colab\"/></a>"
      ]
    },
    {
      "cell_type": "code",
      "execution_count": 1,
      "metadata": {
        "id": "D7Tpg-eZGtRk",
        "colab": {
          "base_uri": "https://localhost:8080/"
        },
        "outputId": "f93d737c-97f7-455b-a14c-5e1af79461fa"
      },
      "outputs": [
        {
          "output_type": "stream",
          "name": "stdout",
          "text": [
            "File yang telah diekstrak: ['AnimalML']\n"
          ]
        }
      ],
      "source": [
        "import zipfile\n",
        "import os\n",
        "\n",
        "# Ganti path_zip dengan path tempat file zip Anda disimpan di Google Drive\n",
        "path_zip = \"AnimalML.zip\"\n",
        "\n",
        "# Ganti path_extract dengan path tempat Anda ingin mengekstrak file zip\n",
        "path_extract = \"AnimalML\"\n",
        "\n",
        "# Mengekstrak file zip\n",
        "with zipfile.ZipFile(path_zip, 'r') as zip_ref:\n",
        "    zip_ref.extractall(path_extract)\n",
        "\n",
        "# Menampilkan daftar file yang telah diekstrak\n",
        "extracted_files = os.listdir(path_extract)\n",
        "print(\"File yang telah diekstrak:\", extracted_files)\n"
      ]
    },
    {
      "cell_type": "code",
      "source": [
        "import os\n",
        "from tensorflow.keras.preprocessing.image import ImageDataGenerator\n",
        "\n",
        "# Ganti path_dataset dengan path tempat dataset Anda disimpan\n",
        "path_dataset = \"AnimalML/AnimalML\"\n",
        "\n",
        "\n",
        "# Tentukan ukuran batch\n",
        "batch_size = 128\n",
        "# Membuat generator untuk data training\n",
        "train_datagen = ImageDataGenerator(\n",
        "    validation_split=0.2,  # Pembagian dataset menjadi train dan\n",
        "    rescale=1./255,\n",
        "    shear_range=0.2,\n",
        "    zoom_range=0.2,\n",
        "    horizontal_flip=True,\n",
        "    rotation_range=20,  # Example: Adding rotation\n",
        "    width_shift_range=0.2,\n",
        "    height_shift_range=0.2\n",
        ")\n",
        "\n",
        "train_generator = train_datagen.flow_from_directory(\n",
        "    path_dataset,\n",
        "    target_size=(224, 224),  # Sesuaikan dengan ukuran input CNN Anda\n",
        "    batch_size=batch_size,\n",
        "    seed=100,\n",
        "    class_mode='categorical',  # Sesuaikan dengan jenis klasifikasi yang Anda lakukan\n",
        "    subset='training'  # Menandakan bahwa ini adalah bagian training set\n",
        ")\n",
        "\n",
        "# Membuat generator untuk data validasi\n",
        "validation_generator = train_datagen.flow_from_directory(\n",
        "    path_dataset,\n",
        "    target_size=(224, 224),  # Sesuaikan dengan ukuran input CNN Anda\n",
        "    batch_size=batch_size,\n",
        "    seed=200,\n",
        "    class_mode='categorical',  # Sesuaikan dengan jenis klasifikasi yang Anda lakukan\n",
        "    subset='validation'  # Menandakan bahwa ini adalah bagian validation set\n",
        ")\n",
        "\n",
        "# Output informasi tentang dataset\n",
        "print(\"Jumlah kelas:\", len(train_generator.class_indices))\n",
        "print(\"Jumlah data training:\", train_generator.n)\n",
        "print(\"Jumlah data validation:\", validation_generator.n)\n"
      ],
      "metadata": {
        "colab": {
          "base_uri": "https://localhost:8080/"
        },
        "id": "KU3mO59KJjbU",
        "outputId": "2cf8b1bd-7713-4202-b76c-48a21f8c32e6"
      },
      "execution_count": 2,
      "outputs": [
        {
          "output_type": "stream",
          "name": "stdout",
          "text": [
            "Found 1499 images belonging to 13 classes.\n",
            "Found 372 images belonging to 13 classes.\n",
            "Jumlah kelas: 13\n",
            "Jumlah data training: 1499\n",
            "Jumlah data validation: 372\n"
          ]
        }
      ]
    },
    {
      "cell_type": "code",
      "source": [
        "import tensorflow as tf\n",
        "from tensorflow.keras import layers, models\n",
        "from tensorflow.keras.optimizers import Adam\n",
        "\n",
        "# Define the CNN model\n",
        "model = models.Sequential()\n",
        "\n",
        "# Convolutional layers with max pooling\n",
        "model.add(layers.Conv2D(32, (3, 3), activation='relu', input_shape=(224, 224, 3)))\n",
        "model.add(layers.MaxPooling2D((2, 2)))\n",
        "\n",
        "model.add(layers.Conv2D(64, (3, 3), activation='relu'))\n",
        "model.add(layers.MaxPooling2D((2, 2)))\n",
        "\n",
        "model.add(layers.Conv2D(128, (3, 3), activation='relu'))\n",
        "model.add(layers.MaxPooling2D((2, 2)))\n",
        "\n",
        "model.add(layers.Conv2D(256, (3, 3), activation='relu'))\n",
        "model.add(layers.MaxPooling2D((2, 2)))\n",
        "\n",
        "model.add(layers.Conv2D(512, (3, 3), activation='relu'))\n",
        "model.add(layers.MaxPooling2D((2, 2)))\n",
        "\n",
        "# Flatten the data for dense layers\n",
        "model.add(layers.Flatten())\n",
        "\n",
        "# Dense layers\n",
        "model.add(layers.Dense(512, activation='relu'))\n",
        "model.add(layers.Dropout(0.1))  # Optional dropout for regularization\n",
        "model.add(layers.Dense(13, activation='softmax'))  # Adjust for the number of classes\n",
        "\n",
        "# Compile the model\n",
        "model.compile(optimizer='Adam',\n",
        "              loss='categorical_crossentropy',  # Assuming integer labels\n",
        "              metrics=['accuracy'])\n",
        "\n",
        "# Display the summary of the model\n",
        "model.summary()\n"
      ],
      "metadata": {
        "colab": {
          "base_uri": "https://localhost:8080/"
        },
        "id": "RBqZ9jebK5ss",
        "outputId": "b7196f82-c9cf-4dd1-e74c-23c152571d5d"
      },
      "execution_count": 3,
      "outputs": [
        {
          "output_type": "stream",
          "name": "stdout",
          "text": [
            "Model: \"sequential\"\n",
            "_________________________________________________________________\n",
            " Layer (type)                Output Shape              Param #   \n",
            "=================================================================\n",
            " conv2d (Conv2D)             (None, 222, 222, 32)      896       \n",
            "                                                                 \n",
            " max_pooling2d (MaxPooling2  (None, 111, 111, 32)      0         \n",
            " D)                                                              \n",
            "                                                                 \n",
            " conv2d_1 (Conv2D)           (None, 109, 109, 64)      18496     \n",
            "                                                                 \n",
            " max_pooling2d_1 (MaxPoolin  (None, 54, 54, 64)        0         \n",
            " g2D)                                                            \n",
            "                                                                 \n",
            " conv2d_2 (Conv2D)           (None, 52, 52, 128)       73856     \n",
            "                                                                 \n",
            " max_pooling2d_2 (MaxPoolin  (None, 26, 26, 128)       0         \n",
            " g2D)                                                            \n",
            "                                                                 \n",
            " conv2d_3 (Conv2D)           (None, 24, 24, 256)       295168    \n",
            "                                                                 \n",
            " max_pooling2d_3 (MaxPoolin  (None, 12, 12, 256)       0         \n",
            " g2D)                                                            \n",
            "                                                                 \n",
            " conv2d_4 (Conv2D)           (None, 10, 10, 512)       1180160   \n",
            "                                                                 \n",
            " max_pooling2d_4 (MaxPoolin  (None, 5, 5, 512)         0         \n",
            " g2D)                                                            \n",
            "                                                                 \n",
            " flatten (Flatten)           (None, 12800)             0         \n",
            "                                                                 \n",
            " dense (Dense)               (None, 512)               6554112   \n",
            "                                                                 \n",
            " dropout (Dropout)           (None, 512)               0         \n",
            "                                                                 \n",
            " dense_1 (Dense)             (None, 13)                6669      \n",
            "                                                                 \n",
            "=================================================================\n",
            "Total params: 8129357 (31.01 MB)\n",
            "Trainable params: 8129357 (31.01 MB)\n",
            "Non-trainable params: 0 (0.00 Byte)\n",
            "_________________________________________________________________\n"
          ]
        }
      ]
    },
    {
      "cell_type": "code",
      "source": [
        "epochs = 100  # Sesuaikan dengan jumlah epoch yang Anda inginkan\n",
        "\n",
        "history = model.fit(\n",
        "    train_generator,\n",
        "    steps_per_epoch=train_generator.n // batch_size,\n",
        "    epochs=epochs,\n",
        "    validation_data=validation_generator,\n",
        "    validation_steps=validation_generator.n // batch_size\n",
        ")\n"
      ],
      "metadata": {
        "colab": {
          "base_uri": "https://localhost:8080/"
        },
        "id": "tHMt6oF2LEOX",
        "outputId": "63b909a8-ca40-4c80-b2d5-a8a248419e40"
      },
      "execution_count": 4,
      "outputs": [
        {
          "output_type": "stream",
          "name": "stdout",
          "text": [
            "Epoch 1/100\n",
            "11/11 [==============================] - 40s 2s/step - loss: 2.5925 - accuracy: 0.0824 - val_loss: 2.5833 - val_accuracy: 0.0742\n",
            "Epoch 2/100\n",
            "11/11 [==============================] - 25s 2s/step - loss: 2.5475 - accuracy: 0.0868 - val_loss: 2.4749 - val_accuracy: 0.1328\n",
            "Epoch 3/100\n",
            "11/11 [==============================] - 24s 2s/step - loss: 2.5230 - accuracy: 0.0861 - val_loss: 2.5092 - val_accuracy: 0.0898\n",
            "Epoch 4/100\n",
            "11/11 [==============================] - 30s 3s/step - loss: 2.4889 - accuracy: 0.1174 - val_loss: 2.4350 - val_accuracy: 0.1133\n",
            "Epoch 5/100\n",
            "11/11 [==============================] - 26s 2s/step - loss: 2.3340 - accuracy: 0.1758 - val_loss: 2.2889 - val_accuracy: 0.2148\n",
            "Epoch 6/100\n",
            "11/11 [==============================] - 24s 2s/step - loss: 2.2498 - accuracy: 0.2356 - val_loss: 2.1636 - val_accuracy: 0.2500\n",
            "Epoch 7/100\n",
            "11/11 [==============================] - 26s 2s/step - loss: 2.0681 - accuracy: 0.3071 - val_loss: 1.9691 - val_accuracy: 0.3320\n",
            "Epoch 8/100\n",
            "11/11 [==============================] - 24s 2s/step - loss: 1.9023 - accuracy: 0.3348 - val_loss: 1.7798 - val_accuracy: 0.3555\n",
            "Epoch 9/100\n",
            "11/11 [==============================] - 24s 2s/step - loss: 1.8076 - accuracy: 0.3880 - val_loss: 1.7657 - val_accuracy: 0.4219\n",
            "Epoch 10/100\n",
            "11/11 [==============================] - 26s 2s/step - loss: 1.7281 - accuracy: 0.4194 - val_loss: 1.8339 - val_accuracy: 0.4023\n",
            "Epoch 11/100\n",
            "11/11 [==============================] - 29s 3s/step - loss: 1.7598 - accuracy: 0.4026 - val_loss: 1.6751 - val_accuracy: 0.4922\n",
            "Epoch 12/100\n",
            "11/11 [==============================] - 24s 2s/step - loss: 1.6619 - accuracy: 0.4354 - val_loss: 1.7370 - val_accuracy: 0.4336\n",
            "Epoch 13/100\n",
            "11/11 [==============================] - 24s 2s/step - loss: 1.5916 - accuracy: 0.4646 - val_loss: 1.7854 - val_accuracy: 0.4492\n",
            "Epoch 14/100\n",
            "11/11 [==============================] - 24s 2s/step - loss: 1.5897 - accuracy: 0.4799 - val_loss: 1.6160 - val_accuracy: 0.4961\n",
            "Epoch 15/100\n",
            "11/11 [==============================] - 24s 2s/step - loss: 1.5177 - accuracy: 0.4974 - val_loss: 1.5651 - val_accuracy: 0.4609\n",
            "Epoch 16/100\n",
            "11/11 [==============================] - 24s 2s/step - loss: 1.4331 - accuracy: 0.5171 - val_loss: 1.6425 - val_accuracy: 0.4961\n",
            "Epoch 17/100\n",
            "11/11 [==============================] - 26s 2s/step - loss: 1.4250 - accuracy: 0.5354 - val_loss: 1.4819 - val_accuracy: 0.5078\n",
            "Epoch 18/100\n",
            "11/11 [==============================] - 25s 2s/step - loss: 1.3418 - accuracy: 0.5580 - val_loss: 1.4817 - val_accuracy: 0.5664\n",
            "Epoch 19/100\n",
            "11/11 [==============================] - 26s 2s/step - loss: 1.2352 - accuracy: 0.5930 - val_loss: 1.5187 - val_accuracy: 0.5469\n",
            "Epoch 20/100\n",
            "11/11 [==============================] - 30s 3s/step - loss: 1.3072 - accuracy: 0.5711 - val_loss: 1.4541 - val_accuracy: 0.4961\n",
            "Epoch 21/100\n",
            "11/11 [==============================] - 29s 3s/step - loss: 1.2077 - accuracy: 0.5937 - val_loss: 1.3668 - val_accuracy: 0.5547\n",
            "Epoch 22/100\n",
            "11/11 [==============================] - 25s 2s/step - loss: 1.1180 - accuracy: 0.6321 - val_loss: 1.2915 - val_accuracy: 0.5820\n",
            "Epoch 23/100\n",
            "11/11 [==============================] - 24s 2s/step - loss: 1.0633 - accuracy: 0.6484 - val_loss: 1.3510 - val_accuracy: 0.6016\n",
            "Epoch 24/100\n",
            "11/11 [==============================] - 24s 2s/step - loss: 1.0065 - accuracy: 0.6740 - val_loss: 1.5295 - val_accuracy: 0.5352\n",
            "Epoch 25/100\n",
            "11/11 [==============================] - 24s 2s/step - loss: 1.0072 - accuracy: 0.6718 - val_loss: 1.2936 - val_accuracy: 0.5938\n",
            "Epoch 26/100\n",
            "11/11 [==============================] - 24s 2s/step - loss: 0.9791 - accuracy: 0.6754 - val_loss: 1.3861 - val_accuracy: 0.6055\n",
            "Epoch 27/100\n",
            "11/11 [==============================] - 25s 2s/step - loss: 0.9601 - accuracy: 0.6839 - val_loss: 1.1816 - val_accuracy: 0.6367\n",
            "Epoch 28/100\n",
            "11/11 [==============================] - 26s 2s/step - loss: 0.9510 - accuracy: 0.6847 - val_loss: 1.2896 - val_accuracy: 0.5781\n",
            "Epoch 29/100\n",
            "11/11 [==============================] - 27s 3s/step - loss: 0.9294 - accuracy: 0.6893 - val_loss: 1.1993 - val_accuracy: 0.6484\n",
            "Epoch 30/100\n",
            "11/11 [==============================] - 24s 2s/step - loss: 0.9067 - accuracy: 0.7046 - val_loss: 1.2356 - val_accuracy: 0.6484\n",
            "Epoch 31/100\n",
            "11/11 [==============================] - 27s 2s/step - loss: 0.8530 - accuracy: 0.7192 - val_loss: 1.3068 - val_accuracy: 0.5859\n",
            "Epoch 32/100\n",
            "11/11 [==============================] - 27s 2s/step - loss: 0.7978 - accuracy: 0.7469 - val_loss: 1.1878 - val_accuracy: 0.6836\n",
            "Epoch 33/100\n",
            "11/11 [==============================] - 24s 2s/step - loss: 0.8250 - accuracy: 0.7250 - val_loss: 1.0762 - val_accuracy: 0.6875\n",
            "Epoch 34/100\n",
            "11/11 [==============================] - 25s 2s/step - loss: 0.8087 - accuracy: 0.7301 - val_loss: 1.2605 - val_accuracy: 0.6250\n",
            "Epoch 35/100\n",
            "11/11 [==============================] - 27s 2s/step - loss: 0.8254 - accuracy: 0.7287 - val_loss: 1.2157 - val_accuracy: 0.6094\n",
            "Epoch 36/100\n",
            "11/11 [==============================] - 30s 3s/step - loss: 0.7510 - accuracy: 0.7514 - val_loss: 1.2433 - val_accuracy: 0.6094\n",
            "Epoch 37/100\n",
            "11/11 [==============================] - 26s 2s/step - loss: 0.7589 - accuracy: 0.7352 - val_loss: 1.1223 - val_accuracy: 0.6602\n",
            "Epoch 38/100\n",
            "11/11 [==============================] - 24s 2s/step - loss: 0.6711 - accuracy: 0.7732 - val_loss: 1.1306 - val_accuracy: 0.6562\n",
            "Epoch 39/100\n",
            "11/11 [==============================] - 24s 2s/step - loss: 0.6934 - accuracy: 0.7768 - val_loss: 1.3603 - val_accuracy: 0.5938\n",
            "Epoch 40/100\n",
            "11/11 [==============================] - 30s 3s/step - loss: 0.6924 - accuracy: 0.7629 - val_loss: 1.1555 - val_accuracy: 0.6289\n",
            "Epoch 41/100\n",
            "11/11 [==============================] - 30s 3s/step - loss: 0.6905 - accuracy: 0.7713 - val_loss: 1.1474 - val_accuracy: 0.6445\n",
            "Epoch 42/100\n",
            "11/11 [==============================] - 29s 3s/step - loss: 0.7177 - accuracy: 0.7644 - val_loss: 1.4599 - val_accuracy: 0.5625\n",
            "Epoch 43/100\n",
            "11/11 [==============================] - 24s 2s/step - loss: 0.7163 - accuracy: 0.7702 - val_loss: 1.0565 - val_accuracy: 0.7188\n",
            "Epoch 44/100\n",
            "11/11 [==============================] - 24s 2s/step - loss: 0.6166 - accuracy: 0.7962 - val_loss: 1.1176 - val_accuracy: 0.6992\n",
            "Epoch 45/100\n",
            "11/11 [==============================] - 24s 2s/step - loss: 0.5701 - accuracy: 0.8009 - val_loss: 1.2281 - val_accuracy: 0.6562\n",
            "Epoch 46/100\n",
            "11/11 [==============================] - 26s 2s/step - loss: 0.6584 - accuracy: 0.7805 - val_loss: 1.1918 - val_accuracy: 0.6367\n",
            "Epoch 47/100\n",
            "11/11 [==============================] - 24s 2s/step - loss: 0.6012 - accuracy: 0.7929 - val_loss: 1.2655 - val_accuracy: 0.6719\n",
            "Epoch 48/100\n",
            "11/11 [==============================] - 23s 2s/step - loss: 0.5381 - accuracy: 0.8111 - val_loss: 1.5249 - val_accuracy: 0.6133\n",
            "Epoch 49/100\n",
            "11/11 [==============================] - 24s 2s/step - loss: 0.5699 - accuracy: 0.8125 - val_loss: 1.2616 - val_accuracy: 0.6406\n",
            "Epoch 50/100\n",
            "11/11 [==============================] - 26s 2s/step - loss: 0.5192 - accuracy: 0.8224 - val_loss: 1.2650 - val_accuracy: 0.6367\n",
            "Epoch 51/100\n",
            "11/11 [==============================] - 25s 2s/step - loss: 0.4789 - accuracy: 0.8322 - val_loss: 1.0894 - val_accuracy: 0.6914\n",
            "Epoch 52/100\n",
            "11/11 [==============================] - 23s 2s/step - loss: 0.5476 - accuracy: 0.8067 - val_loss: 1.2626 - val_accuracy: 0.6797\n",
            "Epoch 53/100\n",
            "11/11 [==============================] - 26s 2s/step - loss: 0.5264 - accuracy: 0.8257 - val_loss: 1.1870 - val_accuracy: 0.6641\n",
            "Epoch 54/100\n",
            "11/11 [==============================] - 29s 3s/step - loss: 0.5003 - accuracy: 0.8322 - val_loss: 1.1315 - val_accuracy: 0.6836\n",
            "Epoch 55/100\n",
            "11/11 [==============================] - 25s 2s/step - loss: 0.4559 - accuracy: 0.8439 - val_loss: 1.1633 - val_accuracy: 0.7188\n",
            "Epoch 56/100\n",
            "11/11 [==============================] - 26s 2s/step - loss: 0.4368 - accuracy: 0.8549 - val_loss: 1.1892 - val_accuracy: 0.6406\n",
            "Epoch 57/100\n",
            "11/11 [==============================] - 26s 2s/step - loss: 0.4396 - accuracy: 0.8600 - val_loss: 1.2994 - val_accuracy: 0.6445\n",
            "Epoch 58/100\n",
            "11/11 [==============================] - 29s 3s/step - loss: 0.4237 - accuracy: 0.8585 - val_loss: 1.3894 - val_accuracy: 0.6914\n",
            "Epoch 59/100\n",
            "11/11 [==============================] - 23s 2s/step - loss: 0.4992 - accuracy: 0.8373 - val_loss: 1.7919 - val_accuracy: 0.5820\n",
            "Epoch 60/100\n",
            "11/11 [==============================] - 26s 2s/step - loss: 0.4276 - accuracy: 0.8527 - val_loss: 1.2941 - val_accuracy: 0.6719\n",
            "Epoch 61/100\n",
            "11/11 [==============================] - 26s 2s/step - loss: 0.3997 - accuracy: 0.8700 - val_loss: 1.2177 - val_accuracy: 0.6875\n",
            "Epoch 62/100\n",
            "11/11 [==============================] - 23s 2s/step - loss: 0.3758 - accuracy: 0.8665 - val_loss: 1.3285 - val_accuracy: 0.6602\n",
            "Epoch 63/100\n",
            "11/11 [==============================] - 24s 2s/step - loss: 0.4091 - accuracy: 0.8665 - val_loss: 1.3567 - val_accuracy: 0.6445\n",
            "Epoch 64/100\n",
            "11/11 [==============================] - 24s 2s/step - loss: 0.3991 - accuracy: 0.8694 - val_loss: 1.3371 - val_accuracy: 0.6523\n",
            "Epoch 65/100\n",
            "11/11 [==============================] - 24s 2s/step - loss: 0.3680 - accuracy: 0.8709 - val_loss: 1.2677 - val_accuracy: 0.7227\n",
            "Epoch 66/100\n",
            "11/11 [==============================] - 25s 2s/step - loss: 0.3033 - accuracy: 0.8972 - val_loss: 1.1836 - val_accuracy: 0.6875\n",
            "Epoch 67/100\n",
            "11/11 [==============================] - 30s 3s/step - loss: 0.3688 - accuracy: 0.8775 - val_loss: 1.3121 - val_accuracy: 0.6992\n",
            "Epoch 68/100\n",
            "11/11 [==============================] - 29s 3s/step - loss: 0.3616 - accuracy: 0.8811 - val_loss: 1.3488 - val_accuracy: 0.6523\n",
            "Epoch 69/100\n",
            "11/11 [==============================] - 24s 2s/step - loss: 0.3255 - accuracy: 0.8811 - val_loss: 1.3510 - val_accuracy: 0.6523\n",
            "Epoch 70/100\n",
            "11/11 [==============================] - 25s 2s/step - loss: 0.3702 - accuracy: 0.8709 - val_loss: 1.2948 - val_accuracy: 0.6836\n",
            "Epoch 71/100\n",
            "11/11 [==============================] - 30s 3s/step - loss: 0.3458 - accuracy: 0.8869 - val_loss: 1.2023 - val_accuracy: 0.7305\n",
            "Epoch 72/100\n",
            "11/11 [==============================] - 29s 3s/step - loss: 0.3161 - accuracy: 0.9048 - val_loss: 1.0917 - val_accuracy: 0.7031\n",
            "Epoch 73/100\n",
            "11/11 [==============================] - 25s 2s/step - loss: 0.2874 - accuracy: 0.9015 - val_loss: 1.2799 - val_accuracy: 0.6680\n",
            "Epoch 74/100\n",
            "11/11 [==============================] - 24s 2s/step - loss: 0.2737 - accuracy: 0.9088 - val_loss: 1.3473 - val_accuracy: 0.7109\n",
            "Epoch 75/100\n",
            "11/11 [==============================] - 24s 2s/step - loss: 0.2506 - accuracy: 0.9176 - val_loss: 1.2675 - val_accuracy: 0.7227\n",
            "Epoch 76/100\n",
            "11/11 [==============================] - 24s 2s/step - loss: 0.2714 - accuracy: 0.9126 - val_loss: 1.2445 - val_accuracy: 0.6992\n",
            "Epoch 77/100\n",
            "11/11 [==============================] - 30s 3s/step - loss: 0.2732 - accuracy: 0.9074 - val_loss: 1.2987 - val_accuracy: 0.7070\n",
            "Epoch 78/100\n",
            "11/11 [==============================] - 29s 3s/step - loss: 0.3028 - accuracy: 0.8884 - val_loss: 1.3091 - val_accuracy: 0.7344\n",
            "Epoch 79/100\n",
            "11/11 [==============================] - 25s 2s/step - loss: 0.2501 - accuracy: 0.9154 - val_loss: 1.2288 - val_accuracy: 0.7383\n",
            "Epoch 80/100\n",
            "11/11 [==============================] - 24s 2s/step - loss: 0.2076 - accuracy: 0.9285 - val_loss: 1.6142 - val_accuracy: 0.6562\n",
            "Epoch 81/100\n",
            "11/11 [==============================] - 24s 2s/step - loss: 0.2376 - accuracy: 0.9205 - val_loss: 1.7944 - val_accuracy: 0.6914\n",
            "Epoch 82/100\n",
            "11/11 [==============================] - 26s 2s/step - loss: 0.2552 - accuracy: 0.9110 - val_loss: 1.3691 - val_accuracy: 0.7383\n",
            "Epoch 83/100\n",
            "11/11 [==============================] - 25s 2s/step - loss: 0.2174 - accuracy: 0.9329 - val_loss: 1.3209 - val_accuracy: 0.7422\n",
            "Epoch 84/100\n",
            "11/11 [==============================] - 23s 2s/step - loss: 0.1968 - accuracy: 0.9409 - val_loss: 1.5790 - val_accuracy: 0.7070\n",
            "Epoch 85/100\n",
            "11/11 [==============================] - 26s 2s/step - loss: 0.1865 - accuracy: 0.9380 - val_loss: 1.6988 - val_accuracy: 0.7031\n",
            "Epoch 86/100\n",
            "11/11 [==============================] - 28s 3s/step - loss: 0.2109 - accuracy: 0.9300 - val_loss: 1.3199 - val_accuracy: 0.6992\n",
            "Epoch 87/100\n",
            "11/11 [==============================] - 25s 2s/step - loss: 0.2196 - accuracy: 0.9241 - val_loss: 1.5395 - val_accuracy: 0.6953\n",
            "Epoch 88/100\n",
            "11/11 [==============================] - 26s 2s/step - loss: 0.2510 - accuracy: 0.9278 - val_loss: 1.6200 - val_accuracy: 0.6992\n",
            "Epoch 89/100\n",
            "11/11 [==============================] - 29s 3s/step - loss: 0.2531 - accuracy: 0.9110 - val_loss: 1.3126 - val_accuracy: 0.7383\n",
            "Epoch 90/100\n",
            "11/11 [==============================] - 25s 2s/step - loss: 0.2029 - accuracy: 0.9285 - val_loss: 1.3639 - val_accuracy: 0.7227\n",
            "Epoch 91/100\n",
            "11/11 [==============================] - 24s 2s/step - loss: 0.1822 - accuracy: 0.9389 - val_loss: 1.6147 - val_accuracy: 0.6875\n",
            "Epoch 92/100\n",
            "11/11 [==============================] - 26s 2s/step - loss: 0.1836 - accuracy: 0.9373 - val_loss: 1.3669 - val_accuracy: 0.7188\n",
            "Epoch 93/100\n",
            "11/11 [==============================] - 26s 2s/step - loss: 0.1767 - accuracy: 0.9425 - val_loss: 1.4257 - val_accuracy: 0.7031\n",
            "Epoch 94/100\n",
            "11/11 [==============================] - 23s 2s/step - loss: 0.1861 - accuracy: 0.9300 - val_loss: 1.4735 - val_accuracy: 0.7031\n",
            "Epoch 95/100\n",
            "11/11 [==============================] - 26s 2s/step - loss: 0.1732 - accuracy: 0.9453 - val_loss: 1.3525 - val_accuracy: 0.7266\n",
            "Epoch 96/100\n",
            "11/11 [==============================] - 24s 2s/step - loss: 0.1727 - accuracy: 0.9511 - val_loss: 1.5409 - val_accuracy: 0.6914\n",
            "Epoch 97/100\n",
            "11/11 [==============================] - 26s 2s/step - loss: 0.1565 - accuracy: 0.9526 - val_loss: 1.4011 - val_accuracy: 0.7461\n",
            "Epoch 98/100\n",
            "11/11 [==============================] - 29s 3s/step - loss: 0.1720 - accuracy: 0.9387 - val_loss: 1.5255 - val_accuracy: 0.7422\n",
            "Epoch 99/100\n",
            "11/11 [==============================] - 25s 2s/step - loss: 0.2149 - accuracy: 0.9344 - val_loss: 1.5747 - val_accuracy: 0.6758\n",
            "Epoch 100/100\n",
            "11/11 [==============================] - 25s 2s/step - loss: 0.1965 - accuracy: 0.9380 - val_loss: 1.5089 - val_accuracy: 0.6875\n"
          ]
        }
      ]
    },
    {
      "cell_type": "code",
      "source": [
        "import matplotlib.pyplot as plt\n",
        "\n",
        "\n",
        "# Plot training history\n",
        "plt.plot(history.history['accuracy'], label='acc')\n",
        "plt.plot(history.history['val_accuracy'], label='val_acc')\n",
        "plt.title('Model Accuracy')\n",
        "plt.xlabel('Epoch')\n",
        "plt.ylabel('Accuracy')\n",
        "plt.legend()\n",
        "plt.show()\n"
      ],
      "metadata": {
        "colab": {
          "base_uri": "https://localhost:8080/",
          "height": 472
        },
        "id": "MJxBK7fdVMLY",
        "outputId": "d5e2ee4c-6134-436f-c478-d710faca51cc"
      },
      "execution_count": 5,
      "outputs": [
        {
          "output_type": "display_data",
          "data": {
            "text/plain": [
              "<Figure size 640x480 with 1 Axes>"
            ],
            "image/png": "[encoded data removed]"
          },
          "metadata": {}
        }
      ]
    },
    {
      "cell_type": "code",
      "source": [
        "# Membuat generator untuk data testing\n",
        "test_datagen = ImageDataGenerator(rescale=1./255)\n",
        "\n",
        "test_generator = test_datagen.flow_from_directory(\n",
        "    path_dataset,\n",
        "    target_size=(224, 224),  # Sesuaikan dengan ukuran input CNN Anda\n",
        "    batch_size=batch_size,\n",
        "    class_mode='categorical'  # Sesuaikan dengan jenis klasifikasi yang Anda lakukan\n",
        ")\n",
        "\n",
        "# Evaluate the model on the test set\n",
        "test_loss, test_accuracy = model.evaluate(test_generator, steps=test_generator.n // batch_size)\n",
        "print(\"Test Accuracy:\", test_accuracy)\n"
      ],
      "metadata": {
        "colab": {
          "base_uri": "https://localhost:8080/"
        },
        "id": "zExXyqx5LPhn",
        "outputId": "bc5c1b23-7ab0-41ca-901d-5030f9f26c5f"
      },
      "execution_count": 6,
      "outputs": [
        {
          "output_type": "stream",
          "name": "stdout",
          "text": [
            "Found 1871 images belonging to 13 classes.\n",
            "14/14 [==============================] - 4s 310ms/step - loss: 0.2900 - accuracy: 0.9420\n",
            "Test Accuracy: 0.9419642686843872\n"
          ]
        }
      ]
    },
    {
      "cell_type": "code",
      "source": [
        "import numpy as np\n",
        "from tensorflow.keras.preprocessing import image\n",
        "\n",
        "# Mengambil satu gambar uji (gantilah path_file_gambar dengan path gambar yang ingin diuji)\n",
        "path_file_gambar = \"/content/AnimalML/AnimalML/orangutan/141_jpg.rf.4270b58ac9645cd80998ae1b840a425c.jpg\"\n",
        "img = image.load_img(path_file_gambar, target_size=(224, 224))\n",
        "\n",
        "# Mengubah gambar menjadi larik numpy\n",
        "img_array = image.img_to_array(img)\n",
        "img_array = np.expand_dims(img_array, axis=0)  # Menambahkan dimensi batch\n",
        "\n",
        "# Normalisasi nilai pixel menjadi rentang [0, 1]\n",
        "img_array /= 255.\n",
        "\n",
        "# Melakukan prediksi menggunakan model\n",
        "predictions = model.predict(img_array)\n",
        "\n",
        "# Mengambil indeks kelas prediksi\n",
        "predicted_class_index = np.argmax(predictions)\n",
        "\n",
        "# Mencetak hasil prediksi\n",
        "print(\"Kelas prediksi:\", train_generator.class_indices)\n",
        "print(\"Kelas hasil prediksi:\", list(train_generator.class_indices.keys())[predicted_class_index])\n"
      ],
      "metadata": {
        "id": "Biy-x_H_rec_",
        "outputId": "74b3165e-41bf-4b53-b1c9-a183eb2dfa2e",
        "colab": {
          "base_uri": "https://localhost:8080/"
        }
      },
      "execution_count": 8,
      "outputs": [
        {
          "output_type": "stream",
          "name": "stdout",
          "text": [
            "1/1 [==============================] - 0s 289ms/step\n",
            "Kelas prediksi: {'bear': 0, 'boar': 1, 'crow': 2, 'deer': 3, 'eagle': 4, 'elephant': 5, 'horse': 6, 'lion': 7, 'orangutan': 8, 'parrot': 9, 'tiger': 10, 'turtle': 11, 'zebra': 12}\n",
            "Kelas hasil prediksi: orangutan\n"
          ]
        }
      ]
    },
    {
      "cell_type": "code",
      "source": [
        "# Simpan model ke dalam file h5\n",
        "model.save(\"model_saved.h5\")\n"
      ],
      "metadata": {
        "id": "k8teHYlFR5LQ",
        "outputId": "4679e16c-4bca-4a43-8a5a-0f56157d1ac2",
        "colab": {
          "base_uri": "https://localhost:8080/"
        }
      },
      "execution_count": 7,
      "outputs": [
        {
          "output_type": "stream",
          "name": "stderr",
          "text": [
            "/usr/local/lib/python3.10/dist-packages/keras/src/engine/training.py:3079: UserWarning: You are saving your model as an HDF5 file via `model.save()`. This file format is considered legacy. We recommend using instead the native Keras format, e.g. `model.save('my_model.keras')`.\n",
            "  saving_api.save_model(\n"
          ]
        }
      ]
    },
    {
      "cell_type": "code",
      "source": [],
      "metadata": {
        "id": "x8mly48CUMPs"
      },
      "execution_count": null,
      "outputs": []
    }
  ]
}